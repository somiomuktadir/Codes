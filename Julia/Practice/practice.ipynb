{
 "cells": [
  {
   "cell_type": "raw",
   "id": "8dc69e25-a1e1-4062-86fd-b56bc8d98b78",
   "metadata": {},
   "source": [
    "This is for the first day. I am enjoying Julia a lot."
   ]
  },
  {
   "cell_type": "code",
   "execution_count": 43,
   "id": "30f676b3-461c-4ed4-821a-2cb71b085dac",
   "metadata": {},
   "outputs": [
    {
     "name": "stdout",
     "output_type": "stream",
     "text": [
      "This is not a comment and THIS WILL EXECUTE\n"
     ]
    }
   ],
   "source": [
    "# This is a comment and this wont execute\n",
    "println(\"This is not a comment and THIS WILL EXECUTE\")"
   ]
  },
  {
   "cell_type": "code",
   "execution_count": 44,
   "id": "dce9cb8b-6ea6-4902-8032-da8f03b4014b",
   "metadata": {},
   "outputs": [
    {
     "name": "stdout",
     "output_type": "stream",
     "text": [
      "Do you understand? Say yes.\n"
     ]
    }
   ],
   "source": [
    "#= \n",
    "For multi-line comments\n",
    "=#\n",
    "println(\"Do you understand? Say yes.\")"
   ]
  },
  {
   "cell_type": "code",
   "execution_count": 45,
   "id": "39c7f1cb-0f5d-4d7d-b514-5a445013933b",
   "metadata": {},
   "outputs": [
    {
     "data": {
      "text/plain": [
       "47"
      ]
     },
     "execution_count": 45,
     "metadata": {},
     "output_type": "execute_result"
    }
   ],
   "source": [
    "a = 47"
   ]
  },
  {
   "cell_type": "code",
   "execution_count": 46,
   "id": "7db265ea-468b-4f9e-8add-e5ecbb047992",
   "metadata": {},
   "outputs": [
    {
     "name": "stdout",
     "output_type": "stream",
     "text": [
      "Meow Meow\n"
     ]
    }
   ],
   "source": [
    "b = \"Meow Meow\"\n",
    "a=b\n",
    "println(a)"
   ]
  },
  {
   "cell_type": "code",
   "execution_count": 47,
   "id": "6e149b8e-680d-447e-9f05-2c9b217b2c88",
   "metadata": {},
   "outputs": [
    {
     "name": "stdout",
     "output_type": "stream",
     "text": [
      "You should know that Somio is a CR.\n"
     ]
    }
   ],
   "source": [
    "string_a = \"Somio is a CR.\"\n",
    "println(\"You should know that $string_a\")"
   ]
  },
  {
   "cell_type": "code",
   "execution_count": 48,
   "id": "8eacb96a-fd25-4848-b36a-5897527fb993",
   "metadata": {},
   "outputs": [
    {
     "name": "stdout",
     "output_type": "stream",
     "text": [
      "I have 10 fingers on hand and 10 numbered toes\n",
      "I have a total of 20 fingers\n"
     ]
    }
   ],
   "source": [
    "g = 10\n",
    "h = 10\n",
    "println(\"I have $g fingers on hand and $h numbered toes\")\n",
    "println(\"I have a total of $(g+h) fingers\")"
   ]
  },
  {
   "cell_type": "code",
   "execution_count": 49,
   "id": "03932599-a88e-4140-87c6-5bec00361b2b",
   "metadata": {},
   "outputs": [
    {
     "name": "stdout",
     "output_type": "stream",
     "text": [
      "Do you know how many cats are there? Yes, there are 10 cats.\n",
      "I want more! 😻\n"
     ]
    }
   ],
   "source": [
    "#string() function can concatenate strings. This program both interpolates and concatenates strings\n",
    "i = \" how many cats are there? \"\n",
    "j = 10\n",
    "p= string(\"Do you know\", i, \"Yes, there are $j cats.\")\n",
    "println(p)\n",
    "println(\"I want more! 😻\")"
   ]
  }
 ],
 "metadata": {
  "kernelspec": {
   "display_name": "Julia 1.11.6",
   "language": "julia",
   "name": "julia-1.11"
  },
  "language_info": {
   "file_extension": ".jl",
   "mimetype": "application/julia",
   "name": "julia",
   "version": "1.11.6"
  }
 },
 "nbformat": 4,
 "nbformat_minor": 5
}
