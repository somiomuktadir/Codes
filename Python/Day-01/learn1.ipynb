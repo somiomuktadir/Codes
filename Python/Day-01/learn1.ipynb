{
 "cells": [
  {
   "cell_type": "code",
   "execution_count": 19,
   "id": "74ee22ce-48b2-4f90-a1cd-2029ad76f274",
   "metadata": {},
   "outputs": [
    {
     "name": "stdout",
     "output_type": "stream",
     "text": [
      "(54+3j)\n"
     ]
    }
   ],
   "source": [
    "a = 3 + 6j\n",
    "b = 4 - 7j\n",
    "c= a*b\n",
    "print(c)"
   ]
  },
  {
   "cell_type": "code",
   "execution_count": 20,
   "id": "fbbbd94b-69a3-475c-868c-fded431b9174",
   "metadata": {},
   "outputs": [
    {
     "name": "stdout",
     "output_type": "stream",
     "text": [
      "First line.\n",
      "Second line.\n"
     ]
    }
   ],
   "source": [
    "a = \"First line.\\nSecond line.\"\n",
    "print(a)"
   ]
  },
  {
   "cell_type": "code",
   "execution_count": 21,
   "id": "c09f915c-99ea-4d28-87b0-5b6b4ace6eef",
   "metadata": {},
   "outputs": [
    {
     "data": {
      "text/plain": [
       "'Python'"
      ]
     },
     "execution_count": 21,
     "metadata": {},
     "output_type": "execute_result"
    }
   ],
   "source": [
    "prefix = \"Py\"\n",
    "prefix + \"thon\""
   ]
  },
  {
   "cell_type": "code",
   "execution_count": 22,
   "id": "06398853-b0e3-4136-bec5-db288da141d7",
   "metadata": {},
   "outputs": [
    {
     "data": {
      "text/plain": [
       "'y'"
      ]
     },
     "execution_count": 22,
     "metadata": {},
     "output_type": "execute_result"
    }
   ],
   "source": [
    "word = \"Python\"\n",
    "word[1]"
   ]
  },
  {
   "cell_type": "code",
   "execution_count": 23,
   "id": "024e529f-3cfd-4f5a-891f-67aeb0d0c91a",
   "metadata": {},
   "outputs": [
    {
     "data": {
      "text/plain": [
       "'Python'"
      ]
     },
     "execution_count": 23,
     "metadata": {},
     "output_type": "execute_result"
    }
   ],
   "source": [
    "word[:4] + word [4:]"
   ]
  },
  {
   "cell_type": "code",
   "execution_count": 24,
   "id": "04281f47-bfb7-4b0b-88df-43c6ea3228de",
   "metadata": {},
   "outputs": [
    {
     "data": {
      "text/plain": [
       "'JPython'"
      ]
     },
     "execution_count": 24,
     "metadata": {},
     "output_type": "execute_result"
    }
   ],
   "source": [
    "\"J\" + word[0:]"
   ]
  },
  {
   "cell_type": "code",
   "execution_count": 25,
   "id": "3f362589-4d72-4a01-8a71-07ec317a083d",
   "metadata": {},
   "outputs": [
    {
     "data": {
      "text/plain": [
       "29"
      ]
     },
     "execution_count": 25,
     "metadata": {},
     "output_type": "execute_result"
    }
   ],
   "source": [
    "s = 'floccinaucinihilipilification'\n",
    "len(s)"
   ]
  },
  {
   "cell_type": "code",
   "execution_count": 26,
   "id": "69dbfad9-9be1-4336-a9b4-5a6db3996ccb",
   "metadata": {},
   "outputs": [
    {
     "data": {
      "text/plain": [
       "[0, 1, 2, 3, 7, 6, 5]"
      ]
     },
     "execution_count": 26,
     "metadata": {},
     "output_type": "execute_result"
    }
   ],
   "source": [
    "squares = [0,1,2,3,7,6,5]\n",
    "squares"
   ]
  },
  {
   "cell_type": "code",
   "execution_count": 27,
   "id": "e716f2dc-9f27-43a6-a1e2-446be3f4fa44",
   "metadata": {},
   "outputs": [
    {
     "data": {
      "text/plain": [
       "[3, 7, 6, 5]"
      ]
     },
     "execution_count": 27,
     "metadata": {},
     "output_type": "execute_result"
    }
   ],
   "source": [
    "squares[3:]"
   ]
  },
  {
   "cell_type": "code",
   "execution_count": 28,
   "id": "f92afccc-730b-48c4-ba65-6002069dabe5",
   "metadata": {},
   "outputs": [
    {
     "data": {
      "text/plain": [
       "[7, 6, 5]"
      ]
     },
     "execution_count": 28,
     "metadata": {},
     "output_type": "execute_result"
    }
   ],
   "source": [
    "squares [-3:]"
   ]
  },
  {
   "cell_type": "code",
   "execution_count": 29,
   "id": "eea24e8e-f9ea-4f4e-9597-636076155cba",
   "metadata": {},
   "outputs": [
    {
     "data": {
      "text/plain": [
       "[0, 1, 2, 3]"
      ]
     },
     "execution_count": 29,
     "metadata": {},
     "output_type": "execute_result"
    }
   ],
   "source": [
    "squares[:-3]"
   ]
  },
  {
   "cell_type": "code",
   "execution_count": 30,
   "id": "6c6cd32a-916e-4c3b-a33a-2cd33b4d7fb3",
   "metadata": {},
   "outputs": [
    {
     "name": "stdout",
     "output_type": "stream",
     "text": [
      "[1, 8, 27, 65, 125]\n"
     ]
    }
   ],
   "source": [
    "cubes = [1, 8, 27, 65, 125]\n",
    "print(cubes)"
   ]
  },
  {
   "cell_type": "code",
   "execution_count": 31,
   "id": "49703e87-12e1-4c4d-b5ed-80cf2759755c",
   "metadata": {},
   "outputs": [
    {
     "data": {
      "text/plain": [
       "[1, 8, 27, 64, 125, 216]"
      ]
     },
     "execution_count": 31,
     "metadata": {},
     "output_type": "execute_result"
    }
   ],
   "source": [
    "cubes[3] = 64\n",
    "cubes.append (6 ** 3)\n",
    "cubes"
   ]
  },
  {
   "cell_type": "code",
   "execution_count": 32,
   "id": "76a64b8f-df77-4db4-8804-f276c0868ec9",
   "metadata": {},
   "outputs": [
    {
     "data": {
      "text/plain": [
       "[1, 8, 27, 64, 125, 216]"
      ]
     },
     "execution_count": 32,
     "metadata": {},
     "output_type": "execute_result"
    }
   ],
   "source": [
    "cubes"
   ]
  },
  {
   "cell_type": "code",
   "execution_count": 33,
   "id": "842f07a2-8379-4db5-9fc2-b9ef9206a667",
   "metadata": {},
   "outputs": [
    {
     "data": {
      "text/plain": [
       "[1, 8, 27, 216]"
      ]
     },
     "execution_count": 33,
     "metadata": {},
     "output_type": "execute_result"
    }
   ],
   "source": [
    "cubes [3:5]=[]\n",
    "cubes"
   ]
  },
  {
   "cell_type": "code",
   "execution_count": 34,
   "id": "5c8d7592-101f-4279-b4cc-08b45c9bcf2b",
   "metadata": {},
   "outputs": [
    {
     "data": {
      "text/plain": [
       "4"
      ]
     },
     "execution_count": 34,
     "metadata": {},
     "output_type": "execute_result"
    }
   ],
   "source": [
    "len (cubes)"
   ]
  },
  {
   "cell_type": "code",
   "execution_count": 35,
   "id": "9143b306-c834-4b65-a6cb-612900241f16",
   "metadata": {},
   "outputs": [
    {
     "name": "stdout",
     "output_type": "stream",
     "text": [
      "0\n",
      "1\n",
      "1\n",
      "2\n",
      "3\n",
      "5\n",
      "8\n",
      "13\n",
      "21\n",
      "34\n",
      "55\n",
      "89\n",
      "144\n",
      "233\n",
      "377\n",
      "610\n",
      "987\n"
     ]
    }
   ],
   "source": [
    "a,b = 0,1 \n",
    "while a<1000:\n",
    "   print (a)\n",
    "   a, b=b, a+b"
   ]
  },
  {
   "cell_type": "code",
   "execution_count": 36,
   "id": "0b9ec909-5c21-468c-82de-853f2b08c2b6",
   "metadata": {},
   "outputs": [
    {
     "name": "stdout",
     "output_type": "stream",
     "text": [
      "The value of i squared is 1156\n"
     ]
    }
   ],
   "source": [
    "i = 34\n",
    "print(\"The value of i squared is\", i*i)\n"
   ]
  },
  {
   "cell_type": "code",
   "execution_count": null,
   "id": "0f158f44-21e8-4822-8694-c064c3953aac",
   "metadata": {},
   "outputs": [],
   "source": []
  }
 ],
 "metadata": {
  "kernelspec": {
   "display_name": "Python 3 (ipykernel)",
   "language": "python",
   "name": "python3"
  },
  "language_info": {
   "codemirror_mode": {
    "name": "ipython",
    "version": 3
   },
   "file_extension": ".py",
   "mimetype": "text/x-python",
   "name": "python",
   "nbconvert_exporter": "python",
   "pygments_lexer": "ipython3",
   "version": "3.13.5"
  }
 },
 "nbformat": 4,
 "nbformat_minor": 5
}
